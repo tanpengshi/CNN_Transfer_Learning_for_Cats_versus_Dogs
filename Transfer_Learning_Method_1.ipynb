{
 "cells": [
  {
   "cell_type": "markdown",
   "metadata": {},
   "source": [
    "# 1. Import Libraries"
   ]
  },
  {
   "cell_type": "code",
   "execution_count": 48,
   "metadata": {},
   "outputs": [],
   "source": [
    "import splitfolders\n",
    "import tensorflow as tf\n",
    "import warnings\n",
    "warnings.simplefilter(action='ignore', category=Warning)\n",
    "\n",
    "from sklearn.metrics import classification_report\n",
    "\n",
    "from tensorflow.keras.preprocessing.image import ImageDataGenerator\n",
    "from tensorflow.keras.layers import Dropout, Dense, \\\n",
    "GlobalAveragePooling2D, Lambda\n",
    "from tensorflow.keras.optimizers import RMSprop \n",
    "from tensorflow.keras.applications import ResNet50\n",
    "from tensorflow.keras.applications.resnet50  import preprocess_input"
   ]
  },
  {
   "cell_type": "markdown",
   "metadata": {},
   "source": [
    "# 2. Split Data into Train/Val/Test Folders"
   ]
  },
  {
   "cell_type": "code",
   "execution_count": 2,
   "metadata": {},
   "outputs": [
    {
     "name": "stderr",
     "output_type": "stream",
     "text": [
      "Copying files: 24955 files [04:27, 93.14 files/s] \n"
     ]
    }
   ],
   "source": [
    "splitfolders.ratio(\n",
    "    \"./data_by_class/\", \n",
    "    output=\"./data_by_set/\", \n",
    "    seed=21, \n",
    "    ratio=(0.9, 0.05, 0.05), \n",
    "    group_prefix=None\n",
    ")"
   ]
  },
  {
   "cell_type": "markdown",
   "metadata": {},
   "source": [
    "# 3. Prepare Image Augmentation"
   ]
  },
  {
   "cell_type": "code",
   "execution_count": 49,
   "metadata": {},
   "outputs": [],
   "source": [
    "train_datagen = ImageDataGenerator(\n",
    "    preprocessing_function=preprocess_input,\n",
    "    horizontal_flip=True,\n",
    "    rotation_range=20,\n",
    "    zoom_range=0.2,\n",
    "    shear_range=10,\n",
    "    brightness_range=[0.80,1.20],\n",
    "    fill_mode='nearest'\n",
    ")\n",
    "\n",
    "valid_datagen = ImageDataGenerator(preprocessing_function=preprocess_input)\n",
    "test_datagen = ImageDataGenerator(preprocessing_function=preprocess_input)"
   ]
  },
  {
   "cell_type": "markdown",
   "metadata": {},
   "source": [
    "# 4. Prepare Generator Data Set"
   ]
  },
  {
   "cell_type": "code",
   "execution_count": 50,
   "metadata": {},
   "outputs": [
    {
     "name": "stdout",
     "output_type": "stream",
     "text": [
      "Found 22457 images belonging to 2 classes.\n",
      "Found 1247 images belonging to 2 classes.\n",
      "Found 1249 images belonging to 2 classes.\n"
     ]
    }
   ],
   "source": [
    "train_dataset = train_datagen.flow_from_directory(\n",
    "    directory='./data_by_set/train',\n",
    "    target_size=(150, 150), \n",
    "    batch_size=64,\n",
    "    shuffle=False,\n",
    "    class_mode='binary',\n",
    "    seed=21\n",
    ")\n",
    "\n",
    "valid_dataset = valid_datagen.flow_from_directory(\n",
    "    directory='./data_by_set/val',\n",
    "    target_size=(150, 150), \n",
    "    batch_size=32,\n",
    "    shuffle=False,\n",
    "    class_mode='binary',\n",
    "    seed=21\n",
    ")\n",
    "\n",
    "test_dataset = test_datagen.flow_from_directory(\n",
    "    directory='./data_by_set/test',\n",
    "    target_size=(150, 150), \n",
    "    batch_size=32,\n",
    "    shuffle=False,\n",
    "    class_mode='binary',\n",
    "    seed=21\n",
    ")"
   ]
  },
  {
   "cell_type": "markdown",
   "metadata": {},
   "source": [
    "# 5. Initialize and Train Model (Some Weights Unfreezed)"
   ]
  },
  {
   "cell_type": "code",
   "execution_count": 51,
   "metadata": {},
   "outputs": [],
   "source": [
    "pre_trained_model = ResNet50(input_shape=(150,150,3),\n",
    "                                include_top=False,\n",
    "                                weights=\"imagenet\")\n",
    "\n",
    "# Some weights in later layers are unfreezed\n",
    "for layer in pre_trained_model.layers[:-5]:\n",
    "    layer.trainable=False"
   ]
  },
  {
   "cell_type": "code",
   "execution_count": 52,
   "metadata": {},
   "outputs": [],
   "source": [
    "tf.random.set_seed(21)\n",
    "\n",
    "model = tf.keras.models.Sequential([\n",
    "    pre_trained_model,\n",
    "    GlobalAveragePooling2D(),    \n",
    "    Dense(512,activation=\"swish\"),\n",
    "    Dropout(0.7),\n",
    "    Dense(256,activation=\"swish\"),\n",
    "    Dropout(0.5),\n",
    "    Dense(128,activation=\"swish\"),\n",
    "    Dropout(0.3), \n",
    "    Dense(32,activation=\"tanh\"),\n",
    "    Dropout(0.2), \n",
    "    Dense(1, activation='sigmoid')\n",
    "])\n",
    "\n",
    "model.compile(optimizer=RMSprop(learning_rate=1e-4),\n",
    "              loss=\"binary_crossentropy\",\n",
    "              metrics=['accuracy'])"
   ]
  },
  {
   "cell_type": "code",
   "execution_count": 53,
   "metadata": {},
   "outputs": [
    {
     "name": "stdout",
     "output_type": "stream",
     "text": [
      "Epoch 1/2\n",
      "200/200 [==============================] - 755s 4s/step - loss: 0.6432 - accuracy: 0.6446 - val_loss: 0.1101 - val_accuracy: 0.9639\n",
      "Epoch 2/2\n",
      "200/200 [==============================] - 833s 4s/step - loss: 0.2349 - accuracy: 0.9172 - val_loss: 0.2558 - val_accuracy: 0.9038\n",
      "Wall time: 26min 28s\n"
     ]
    }
   ],
   "source": [
    "%%time\n",
    "\n",
    "history = model.fit(\n",
    "    train_dataset,\n",
    "    steps_per_epoch=200,\n",
    "    epochs=2,\n",
    "    validation_data=valid_dataset,  \n",
    ")"
   ]
  },
  {
   "cell_type": "markdown",
   "metadata": {},
   "source": [
    "# 6. Evaluate on Test Set"
   ]
  },
  {
   "cell_type": "code",
   "execution_count": 54,
   "metadata": {},
   "outputs": [
    {
     "name": "stdout",
     "output_type": "stream",
     "text": [
      "              precision    recall  f1-score   support\n",
      "\n",
      "         Cat       0.92      0.92      0.92       625\n",
      "         Dog       0.92      0.92      0.92       624\n",
      "\n",
      "    accuracy                           0.92      1249\n",
      "   macro avg       0.92      0.92      0.92      1249\n",
      "weighted avg       0.92      0.92      0.92      1249\n",
      "\n"
     ]
    }
   ],
   "source": [
    "test_labels = test_dataset.classes\n",
    "predictions=model.predict_generator(test_dataset)\n",
    "predictions = predictions.reshape(1,-1)[0]>0.5\n",
    "\n",
    "print(classification_report(test_labels, predictions,target_names=['Cat','Dog']))"
   ]
  },
  {
   "cell_type": "code",
   "execution_count": null,
   "metadata": {},
   "outputs": [],
   "source": []
  }
 ],
 "metadata": {
  "kernelspec": {
   "display_name": "Python 3",
   "language": "python",
   "name": "python3"
  },
  "language_info": {
   "codemirror_mode": {
    "name": "ipython",
    "version": 3
   },
   "file_extension": ".py",
   "mimetype": "text/x-python",
   "name": "python",
   "nbconvert_exporter": "python",
   "pygments_lexer": "ipython3",
   "version": "3.8.3"
  }
 },
 "nbformat": 4,
 "nbformat_minor": 4
}
