{
 "cells": [
  {
   "cell_type": "markdown",
   "metadata": {},
   "source": [
    "# 1. Import Libraries"
   ]
  },
  {
   "cell_type": "code",
   "execution_count": 1,
   "metadata": {},
   "outputs": [],
   "source": [
    "import tqdm\n",
    "import cv2\n",
    "import splitfolders\n",
    "import tensorflow as tf\n",
    "import pandas as pd\n",
    "import numpy as np\n",
    "import matplotlib.pyplot as plt\n",
    "import seaborn as sns\n",
    "import warnings\n",
    "warnings.simplefilter(action='ignore', category=Warning)\n",
    "\n",
    "from sklearn.metrics import confusion_matrix, classification_report\n",
    "from IPython.display import HTML\n",
    "\n",
    "from tensorflow.keras.preprocessing.image import ImageDataGenerator\n",
    "from tensorflow.keras.layers import Dropout, Flatten, Dense, GlobalAveragePooling2D\n",
    "from tensorflow.keras.optimizers import RMSprop\n",
    "from tensorflow.keras.callbacks import EarlyStopping\n",
    "from tensorflow.keras.applications.resnet import preprocess_input\n",
    "from tensorflow.keras.applications import ResNet50"
   ]
  },
  {
   "cell_type": "markdown",
   "metadata": {},
   "source": [
    "# 2. Split Data into Train/Val/Test Folders"
   ]
  },
  {
   "cell_type": "code",
   "execution_count": 2,
   "metadata": {},
   "outputs": [
    {
     "name": "stderr",
     "output_type": "stream",
     "text": [
      "Copying files: 24955 files [04:13, 98.32 files/s] \n"
     ]
    }
   ],
   "source": [
    "splitfolders.ratio(\n",
    "    \"./data_by_class/\", \n",
    "    output=\"./data_by_set/\", \n",
    "    seed=21, \n",
    "    ratio=(0.9, 0.05, 0.05), \n",
    "    group_prefix=None\n",
    ")"
   ]
  },
  {
   "cell_type": "markdown",
   "metadata": {},
   "source": [
    "# 3. Prepare Image Augmentation"
   ]
  },
  {
   "cell_type": "code",
   "execution_count": 3,
   "metadata": {},
   "outputs": [],
   "source": [
    "train_datagen = ImageDataGenerator(\n",
    "    horizontal_flip=True,\n",
    "    rotation_range=15,\n",
    "    zoom_range=0.15,\n",
    "    brightness_range=[0.85,1.15],\n",
    "    fill_mode='nearest'\n",
    ")\n",
    "\n",
    "valid_datagen = ImageDataGenerator()\n",
    "test_datagen = ImageDataGenerator()"
   ]
  },
  {
   "cell_type": "markdown",
   "metadata": {},
   "source": [
    "# 4. Prepare Train/Val/Test Data Set in Numpy "
   ]
  },
  {
   "cell_type": "code",
   "execution_count": 4,
   "metadata": {},
   "outputs": [
    {
     "name": "stdout",
     "output_type": "stream",
     "text": [
      "Found 22457 images belonging to 2 classes.\n",
      "Found 1247 images belonging to 2 classes.\n",
      "Found 1249 images belonging to 2 classes.\n"
     ]
    },
    {
     "name": "stderr",
     "output_type": "stream",
     "text": [
      " 95%|████████████████████████████████████████████████████████████████████████████▎   | 167/175 [10:42<00:56,  7.09s/it]C:\\Users\\tanpe\\anaconda3\\lib\\site-packages\\PIL\\TiffImagePlugin.py:763: UserWarning: Possibly corrupt EXIF data.  Expecting to read 32 bytes but only got 0. Skipping tag 270\n",
      "  warnings.warn(\n",
      "C:\\Users\\tanpe\\anaconda3\\lib\\site-packages\\PIL\\TiffImagePlugin.py:763: UserWarning: Possibly corrupt EXIF data.  Expecting to read 5 bytes but only got 0. Skipping tag 271\n",
      "  warnings.warn(\n",
      "C:\\Users\\tanpe\\anaconda3\\lib\\site-packages\\PIL\\TiffImagePlugin.py:763: UserWarning: Possibly corrupt EXIF data.  Expecting to read 8 bytes but only got 0. Skipping tag 272\n",
      "  warnings.warn(\n",
      "C:\\Users\\tanpe\\anaconda3\\lib\\site-packages\\PIL\\TiffImagePlugin.py:763: UserWarning: Possibly corrupt EXIF data.  Expecting to read 8 bytes but only got 0. Skipping tag 282\n",
      "  warnings.warn(\n",
      "C:\\Users\\tanpe\\anaconda3\\lib\\site-packages\\PIL\\TiffImagePlugin.py:763: UserWarning: Possibly corrupt EXIF data.  Expecting to read 8 bytes but only got 0. Skipping tag 283\n",
      "  warnings.warn(\n",
      "C:\\Users\\tanpe\\anaconda3\\lib\\site-packages\\PIL\\TiffImagePlugin.py:763: UserWarning: Possibly corrupt EXIF data.  Expecting to read 20 bytes but only got 0. Skipping tag 306\n",
      "  warnings.warn(\n",
      "C:\\Users\\tanpe\\anaconda3\\lib\\site-packages\\PIL\\TiffImagePlugin.py:763: UserWarning: Possibly corrupt EXIF data.  Expecting to read 48 bytes but only got 0. Skipping tag 532\n",
      "  warnings.warn(\n",
      "C:\\Users\\tanpe\\anaconda3\\lib\\site-packages\\PIL\\TiffImagePlugin.py:785: UserWarning: Corrupt EXIF data.  Expecting to read 2 bytes but only got 0. \n",
      "  warnings.warn(str(msg))\n",
      "100%|████████████████████████████████████████████████████████████████████████████████| 175/175 [11:34<00:00,  3.97s/it]\n",
      "100%|██████████████████████████████████████████████████████████████████████████████████| 38/38 [00:17<00:00,  2.12it/s]\n",
      "100%|██████████████████████████████████████████████████████████████████████████████████| 39/39 [00:17<00:00,  2.22it/s]\n"
     ]
    },
    {
     "name": "stdout",
     "output_type": "stream",
     "text": [
      "Wall time: 12min 16s\n"
     ]
    }
   ],
   "source": [
    "%%time\n",
    "\n",
    "train_dataset = train_datagen.flow_from_directory(\n",
    "    directory='./data_by_set/train',\n",
    "    target_size=(150, 150), \n",
    "    batch_size=128,\n",
    "    shuffle=False,\n",
    "    class_mode='binary',\n",
    "    seed=21\n",
    ")\n",
    "\n",
    "valid_dataset = valid_datagen.flow_from_directory(\n",
    "    directory='./data_by_set/val',\n",
    "    target_size=(150, 150), \n",
    "    batch_size=32,\n",
    "    shuffle=False,\n",
    "    class_mode='binary',\n",
    "    seed=21\n",
    ")\n",
    "\n",
    "test_dataset = test_datagen.flow_from_directory(\n",
    "    directory='./data_by_set/test',\n",
    "    target_size=(150, 150), \n",
    "    batch_size=32,\n",
    "    shuffle=False,\n",
    "    class_mode='binary',\n",
    "    seed=21\n",
    ")\n",
    "\n",
    "X_train, y_train = next(train_dataset)\n",
    "X_val, y_val = next(valid_dataset)\n",
    "X_test, y_test = next(test_dataset)\n",
    "\n",
    "for i in tqdm.tqdm(range(len(train_dataset)-1)): \n",
    "    img, label = next(train_dataset)\n",
    "    X_train = np.append(X_train, img, axis=0)\n",
    "    y_train = np.append(y_train, label, axis=0)\n",
    "    \n",
    "for i in tqdm.tqdm(range(len(valid_dataset)-1)): \n",
    "    img, label = next(valid_dataset)\n",
    "    X_val = np.append(X_val, img, axis=0)\n",
    "    y_val = np.append(y_val, label, axis=0)\n",
    "    \n",
    "for i in tqdm.tqdm(range(len(test_dataset)-1)): \n",
    "    img, label = next(test_dataset)\n",
    "    X_test = np.append(X_test, img, axis=0)\n",
    "    y_test = np.append(y_test, label, axis=0)"
   ]
  },
  {
   "cell_type": "markdown",
   "metadata": {},
   "source": [
    "# 5. Run ResNet Inference to Obtain Features"
   ]
  },
  {
   "cell_type": "code",
   "execution_count": 5,
   "metadata": {},
   "outputs": [
    {
     "name": "stdout",
     "output_type": "stream",
     "text": [
      "Wall time: 31min 17s\n"
     ]
    }
   ],
   "source": [
    "%%time\n",
    "\n",
    "global_average_layer = GlobalAveragePooling2D()\n",
    "\n",
    "pretrained_model = ResNet50(input_shape=(150,150,3),\n",
    "                            include_top=False,\n",
    "                            weights=\"imagenet\")\n",
    "\n",
    "z_train = preprocess_input(X_train)\n",
    "z_train = pretrained_model.predict(z_train)\n",
    "feature_batch = global_average_layer(z_train)\n",
    "X_train_feature = np.array(feature_batch)\n",
    "\n",
    "z_val = preprocess_input(X_val)\n",
    "z_val = pretrained_model.predict(z_val)\n",
    "feature_batch = global_average_layer(z_val)\n",
    "X_val_feature = np.array(feature_batch)\n",
    "\n",
    "z_test = preprocess_input(X_test)\n",
    "z_test = pretrained_model.predict(z_test)\n",
    "feature_batch = global_average_layer(z_test)\n",
    "X_test_feature = np.array(feature_batch)"
   ]
  },
  {
   "cell_type": "markdown",
   "metadata": {},
   "source": [
    "# 6. Initialize and Train Model"
   ]
  },
  {
   "cell_type": "code",
   "execution_count": 20,
   "metadata": {},
   "outputs": [],
   "source": [
    "tf.random.set_seed(21)\n",
    "\n",
    "model = tf.keras.models.Sequential([\n",
    "    Dense(512,input_shape=(2048,),activation=\"swish\"),\n",
    "    Dropout(0.7),\n",
    "    Dense(256,activation=\"swish\"),\n",
    "    Dropout(0.5),\n",
    "    Dense(128,activation=\"swish\"),\n",
    "    Dropout(0.3), \n",
    "    Dense(32,activation=\"tanh\"),\n",
    "    Dropout(0.2), \n",
    "    Dense(1, activation='sigmoid')\n",
    "])\n",
    "\n",
    "model.compile(optimizer=RMSprop(learning_rate=1e-4),\n",
    "                             loss=\"binary_crossentropy\",\n",
    "                             metrics=['accuracy'])\n",
    "\n",
    "callbacks=[EarlyStopping(patience=20, \n",
    "                         verbose=1, \n",
    "                         restore_best_weights=True,\n",
    "                         monitor='val_accuracy')]"
   ]
  },
  {
   "cell_type": "code",
   "execution_count": 21,
   "metadata": {},
   "outputs": [
    {
     "name": "stdout",
     "output_type": "stream",
     "text": [
      "Epoch 1/200\n",
      "88/88 [==============================] - 4s 26ms/step - loss: 0.4967 - accuracy: 0.7476 - val_loss: 0.0866 - val_accuracy: 0.9687\n",
      "Epoch 2/200\n",
      "88/88 [==============================] - 3s 31ms/step - loss: 0.1577 - accuracy: 0.9469 - val_loss: 0.0800 - val_accuracy: 0.9735\n",
      "Epoch 3/200\n",
      "88/88 [==============================] - 3s 35ms/step - loss: 0.1207 - accuracy: 0.9588 - val_loss: 0.0820 - val_accuracy: 0.9727\n",
      "Epoch 4/200\n",
      "88/88 [==============================] - 3s 38ms/step - loss: 0.1060 - accuracy: 0.9630 - val_loss: 0.0765 - val_accuracy: 0.9751\n",
      "Epoch 5/200\n",
      "88/88 [==============================] - 3s 33ms/step - loss: 0.0916 - accuracy: 0.9707 - val_loss: 0.0691 - val_accuracy: 0.9783\n",
      "Epoch 6/200\n",
      "88/88 [==============================] - 3s 35ms/step - loss: 0.0857 - accuracy: 0.9706 - val_loss: 0.0682 - val_accuracy: 0.9800\n",
      "Epoch 7/200\n",
      "88/88 [==============================] - 3s 32ms/step - loss: 0.0846 - accuracy: 0.9709 - val_loss: 0.0713 - val_accuracy: 0.9775\n",
      "Epoch 8/200\n",
      "88/88 [==============================] - 3s 33ms/step - loss: 0.0777 - accuracy: 0.9731 - val_loss: 0.0660 - val_accuracy: 0.9800\n",
      "Epoch 9/200\n",
      "88/88 [==============================] - 3s 33ms/step - loss: 0.0744 - accuracy: 0.9738 - val_loss: 0.0638 - val_accuracy: 0.9775\n",
      "Epoch 10/200\n",
      "88/88 [==============================] - 3s 33ms/step - loss: 0.0699 - accuracy: 0.9775 - val_loss: 0.0660 - val_accuracy: 0.9791\n",
      "Epoch 11/200\n",
      "88/88 [==============================] - 3s 37ms/step - loss: 0.0680 - accuracy: 0.9769 - val_loss: 0.0674 - val_accuracy: 0.9791\n",
      "Epoch 12/200\n",
      "88/88 [==============================] - 3s 34ms/step - loss: 0.0616 - accuracy: 0.9801 - val_loss: 0.0657 - val_accuracy: 0.9791\n",
      "Epoch 13/200\n",
      "88/88 [==============================] - 3s 37ms/step - loss: 0.0618 - accuracy: 0.9790 - val_loss: 0.0680 - val_accuracy: 0.9767\n",
      "Epoch 14/200\n",
      "88/88 [==============================] - 3s 32ms/step - loss: 0.0591 - accuracy: 0.9809 - val_loss: 0.0720 - val_accuracy: 0.9759\n",
      "Epoch 15/200\n",
      "88/88 [==============================] - 3s 36ms/step - loss: 0.0532 - accuracy: 0.9821 - val_loss: 0.0729 - val_accuracy: 0.9759\n",
      "Epoch 16/200\n",
      "88/88 [==============================] - 3s 34ms/step - loss: 0.0536 - accuracy: 0.9820 - val_loss: 0.0657 - val_accuracy: 0.9824\n",
      "Epoch 17/200\n",
      "88/88 [==============================] - 3s 35ms/step - loss: 0.0510 - accuracy: 0.9825 - val_loss: 0.0691 - val_accuracy: 0.9775\n",
      "Epoch 18/200\n",
      "88/88 [==============================] - 3s 35ms/step - loss: 0.0470 - accuracy: 0.9842 - val_loss: 0.0675 - val_accuracy: 0.9791\n",
      "Epoch 19/200\n",
      "88/88 [==============================] - 3s 35ms/step - loss: 0.0447 - accuracy: 0.9850 - val_loss: 0.0686 - val_accuracy: 0.9759\n",
      "Epoch 20/200\n",
      "88/88 [==============================] - 3s 34ms/step - loss: 0.0407 - accuracy: 0.9871 - val_loss: 0.0703 - val_accuracy: 0.9775\n",
      "Epoch 21/200\n",
      "88/88 [==============================] - 3s 34ms/step - loss: 0.0403 - accuracy: 0.9871 - val_loss: 0.0748 - val_accuracy: 0.9775\n",
      "Epoch 22/200\n",
      "88/88 [==============================] - 3s 34ms/step - loss: 0.0407 - accuracy: 0.9870 - val_loss: 0.0741 - val_accuracy: 0.9775\n",
      "Epoch 23/200\n",
      "88/88 [==============================] - 3s 32ms/step - loss: 0.0390 - accuracy: 0.9876 - val_loss: 0.0759 - val_accuracy: 0.9791\n",
      "Epoch 24/200\n",
      "88/88 [==============================] - 3s 36ms/step - loss: 0.0368 - accuracy: 0.9882 - val_loss: 0.0743 - val_accuracy: 0.9808\n",
      "Epoch 25/200\n",
      "88/88 [==============================] - 3s 33ms/step - loss: 0.0398 - accuracy: 0.9877 - val_loss: 0.0747 - val_accuracy: 0.9808\n",
      "Epoch 26/200\n",
      "88/88 [==============================] - 3s 36ms/step - loss: 0.0317 - accuracy: 0.9903 - val_loss: 0.0790 - val_accuracy: 0.9791\n",
      "Epoch 27/200\n",
      "88/88 [==============================] - 3s 33ms/step - loss: 0.0334 - accuracy: 0.9890 - val_loss: 0.0771 - val_accuracy: 0.9800\n",
      "Epoch 28/200\n",
      "88/88 [==============================] - 3s 37ms/step - loss: 0.0300 - accuracy: 0.9907 - val_loss: 0.0793 - val_accuracy: 0.9767\n",
      "Epoch 29/200\n",
      "88/88 [==============================] - 3s 32ms/step - loss: 0.0264 - accuracy: 0.9918 - val_loss: 0.0868 - val_accuracy: 0.9783\n",
      "Epoch 30/200\n",
      "88/88 [==============================] - 3s 34ms/step - loss: 0.0249 - accuracy: 0.9919 - val_loss: 0.0820 - val_accuracy: 0.9767\n",
      "Epoch 31/200\n",
      "88/88 [==============================] - 3s 36ms/step - loss: 0.0255 - accuracy: 0.9919 - val_loss: 0.0826 - val_accuracy: 0.9783\n",
      "Epoch 32/200\n",
      "88/88 [==============================] - 3s 35ms/step - loss: 0.0258 - accuracy: 0.9930 - val_loss: 0.0836 - val_accuracy: 0.9791\n",
      "Epoch 33/200\n",
      "88/88 [==============================] - 3s 34ms/step - loss: 0.0244 - accuracy: 0.9926 - val_loss: 0.0844 - val_accuracy: 0.9800\n",
      "Epoch 34/200\n",
      "88/88 [==============================] - 3s 39ms/step - loss: 0.0227 - accuracy: 0.9934 - val_loss: 0.0857 - val_accuracy: 0.9808\n",
      "Epoch 35/200\n",
      "88/88 [==============================] - 3s 37ms/step - loss: 0.0264 - accuracy: 0.9923 - val_loss: 0.0871 - val_accuracy: 0.9791\n",
      "Epoch 36/200\n",
      "88/88 [==============================] - 3s 40ms/step - loss: 0.0209 - accuracy: 0.9933 - val_loss: 0.0831 - val_accuracy: 0.9808\n",
      "Restoring model weights from the end of the best epoch.\n",
      "Epoch 00036: early stopping\n",
      "Wall time: 1min 50s\n"
     ]
    }
   ],
   "source": [
    "%%time\n",
    "\n",
    "history = model.fit(\n",
    "    X_train_feature,\n",
    "    y_train,\n",
    "    batch_size=256,\n",
    "    validation_data=(X_val_feature,y_val),\n",
    "    callbacks=callbacks,\n",
    "    epochs=200,\n",
    ")"
   ]
  },
  {
   "cell_type": "code",
   "execution_count": 22,
   "metadata": {},
   "outputs": [
    {
     "data": {
      "image/png": "[encoded data removed]",
      "text/plain": [
       "<Figure size 432x288 with 1 Axes>"
      ]
     },
     "metadata": {
      "needs_background": "light"
     },
     "output_type": "display_data"
    },
    {
     "data": {
      "image/png": "[encoded data removed]",
      "text/plain": [
       "<Figure size 432x288 with 1 Axes>"
      ]
     },
     "metadata": {
      "needs_background": "light"
     },
     "output_type": "display_data"
    }
   ],
   "source": [
    "# summarize history for accuracy\n",
    "plt.plot(history.history['accuracy'])\n",
    "plt.plot(history.history['val_accuracy'])\n",
    "plt.title('model accuracy')\n",
    "plt.ylabel('accuracy')\n",
    "plt.xlabel('epoch')\n",
    "plt.legend(['train', 'test'], loc='upper left')\n",
    "plt.show()\n",
    "\n",
    "# summarize history for loss\n",
    "plt.plot(history.history['loss'])\n",
    "plt.plot(history.history['val_loss'])\n",
    "plt.title('model loss')\n",
    "plt.ylabel('loss')\n",
    "plt.xlabel('epoch')\n",
    "plt.legend(['train', 'test'], loc='upper left')\n",
    "plt.show()"
   ]
  },
  {
   "cell_type": "markdown",
   "metadata": {},
   "source": [
    "# 7. Evaluate on Test Set"
   ]
  },
  {
   "cell_type": "code",
   "execution_count": 23,
   "metadata": {},
   "outputs": [
    {
     "name": "stdout",
     "output_type": "stream",
     "text": [
      "              precision    recall  f1-score   support\n",
      "\n",
      "         Cat     0.9730    0.9808    0.9769       625\n",
      "         Dog     0.9806    0.9728    0.9767       624\n",
      "\n",
      "    accuracy                         0.9768      1249\n",
      "   macro avg     0.9768    0.9768    0.9768      1249\n",
      "weighted avg     0.9768    0.9768    0.9768      1249\n",
      "\n"
     ]
    }
   ],
   "source": [
    "y_pred = model.predict(X_test_feature)>0.5\n",
    "print(classification_report(\n",
    "    y_test,y_pred,digits=4,target_names=['Cat','Dog']\n",
    ")\n",
    "     )"
   ]
  },
  {
   "cell_type": "code",
   "execution_count": 24,
   "metadata": {},
   "outputs": [
    {
     "data": {
      "image/png": "[encoded data removed]",
      "text/plain": [
       "<Figure size 780x520 with 2 Axes>"
      ]
     },
     "metadata": {},
     "output_type": "display_data"
    }
   ],
   "source": [
    "def make_confusion_matrix(y_test,y_predict):  \n",
    "    \n",
    "    confusion = confusion_matrix(y_test,y_predict)\n",
    "    \n",
    "    sns.set(style='white',font_scale=0.9)\n",
    "    plt.figure(dpi=130)\n",
    "    \n",
    "    ax = sns.heatmap(confusion, \n",
    "                     cmap='Greens', \n",
    "                     annot=True, \n",
    "                     square=True, \n",
    "                     fmt='d',\n",
    "                     linewidth=2,\n",
    "                     xticklabels=['Cat','Dog'],\n",
    "                     yticklabels=['Cat','Dog']); \n",
    "    \n",
    "    plt.xlabel('Prediction',weight='bold',fontsize=12)\n",
    "    plt.ylabel('Actual',weight='bold',fontsize=12)\n",
    "    plt.title('Confusion Matrix',weight='bold',fontsize=15)\n",
    "    \n",
    "make_confusion_matrix(y_test,y_pred)"
   ]
  },
  {
   "cell_type": "markdown",
   "metadata": {},
   "source": [
    "# 8. Error Analysis - Misclassified Test Examples"
   ]
  },
  {
   "cell_type": "code",
   "execution_count": 33,
   "metadata": {},
   "outputs": [
    {
     "data": {
      "text/html": [
       "<table border=\"1\" class=\"dataframe\">\n",
       "  <thead>\n",
       "    <tr style=\"text-align: right;\">\n",
       "      <th></th>\n",
       "      <th>Actual_Animal</th>\n",
       "      <th>Predicted_Animal</th>\n",
       "      <th>image_path</th>\n",
       "      <th>image</th>\n",
       "    </tr>\n",
       "  </thead>\n",
       "  <tbody>\n",
       "    <tr>\n",
       "      <th>0</th>\n",
       "      <td>Cat</td>\n",
       "      <td>Dog</td>\n",
       "      <td>./data_by_set/test/Cat\\11457.jpg</td>\n",
       "      <td><img src=\"./data_by_set/test/Cat\\11457.jpg\" /></td>\n",
       "    </tr>\n",
       "    <tr>\n",
       "      <th>1</th>\n",
       "      <td>Cat</td>\n",
       "      <td>Dog</td>\n",
       "      <td>./data_by_set/test/Cat\\2904.jpg</td>\n",
       "      <td><img src=\"./data_by_set/test/Cat\\2904.jpg\" /></td>\n",
       "    </tr>\n",
       "    <tr>\n",
       "      <th>2</th>\n",
       "      <td>Cat</td>\n",
       "      <td>Dog</td>\n",
       "      <td>./data_by_set/test/Cat\\3868.jpg</td>\n",
       "      <td><img src=\"./data_by_set/test/Cat\\3868.jpg\" /></td>\n",
       "    </tr>\n",
       "    <tr>\n",
       "      <th>3</th>\n",
       "      <td>Cat</td>\n",
       "      <td>Dog</td>\n",
       "      <td>./data_by_set/test/Cat\\3892.jpg</td>\n",
       "      <td><img src=\"./data_by_set/test/Cat\\3892.jpg\" /></td>\n",
       "    </tr>\n",
       "    <tr>\n",
       "      <th>4</th>\n",
       "      <td>Cat</td>\n",
       "      <td>Dog</td>\n",
       "      <td>./data_by_set/test/Cat\\4190.jpg</td>\n",
       "      <td><img src=\"./data_by_set/test/Cat\\4190.jpg\" /></td>\n",
       "    </tr>\n",
       "    <tr>\n",
       "      <th>5</th>\n",
       "      <td>Cat</td>\n",
       "      <td>Dog</td>\n",
       "      <td>./data_by_set/test/Cat\\6051.jpg</td>\n",
       "      <td><img src=\"./data_by_set/test/Cat\\6051.jpg\" /></td>\n",
       "    </tr>\n",
       "    <tr>\n",
       "      <th>6</th>\n",
       "      <td>Cat</td>\n",
       "      <td>Dog</td>\n",
       "      <td>./data_by_set/test/Cat\\738.jpg</td>\n",
       "      <td><img src=\"./data_by_set/test/Cat\\738.jpg\" /></td>\n",
       "    </tr>\n",
       "    <tr>\n",
       "      <th>7</th>\n",
       "      <td>Cat</td>\n",
       "      <td>Dog</td>\n",
       "      <td>./data_by_set/test/Cat\\7599.jpg</td>\n",
       "      <td><img src=\"./data_by_set/test/Cat\\7599.jpg\" /></td>\n",
       "    </tr>\n",
       "    <tr>\n",
       "      <th>8</th>\n",
       "      <td>Cat</td>\n",
       "      <td>Dog</td>\n",
       "      <td>./data_by_set/test/Cat\\8076.jpg</td>\n",
       "      <td><img src=\"./data_by_set/test/Cat\\8076.jpg\" /></td>\n",
       "    </tr>\n",
       "    <tr>\n",
       "      <th>9</th>\n",
       "      <td>Cat</td>\n",
       "      <td>Dog</td>\n",
       "      <td>./data_by_set/test/Cat\\8470.jpg</td>\n",
       "      <td><img src=\"./data_by_set/test/Cat\\8470.jpg\" /></td>\n",
       "    </tr>\n",
       "    <tr>\n",
       "      <th>10</th>\n",
       "      <td>Cat</td>\n",
       "      <td>Dog</td>\n",
       "      <td>./data_by_set/test/Cat\\8475.jpg</td>\n",
       "      <td><img src=\"./data_by_set/test/Cat\\8475.jpg\" /></td>\n",
       "    </tr>\n",
       "    <tr>\n",
       "      <th>11</th>\n",
       "      <td>Cat</td>\n",
       "      <td>Dog</td>\n",
       "      <td>./data_by_set/test/Cat\\9506.jpg</td>\n",
       "      <td><img src=\"./data_by_set/test/Cat\\9506.jpg\" /></td>\n",
       "    </tr>\n",
       "    <tr>\n",
       "      <th>12</th>\n",
       "      <td>Dog</td>\n",
       "      <td>Cat</td>\n",
       "      <td>./data_by_set/test/Dog\\10579.jpg</td>\n",
       "      <td><img src=\"./data_by_set/test/Dog\\10579.jpg\" /></td>\n",
       "    </tr>\n",
       "    <tr>\n",
       "      <th>13</th>\n",
       "      <td>Dog</td>\n",
       "      <td>Cat</td>\n",
       "      <td>./data_by_set/test/Dog\\12142.jpg</td>\n",
       "      <td><img src=\"./data_by_set/test/Dog\\12142.jpg\" /></td>\n",
       "    </tr>\n",
       "    <tr>\n",
       "      <th>14</th>\n",
       "      <td>Dog</td>\n",
       "      <td>Cat</td>\n",
       "      <td>./data_by_set/test/Dog\\1215.jpg</td>\n",
       "      <td><img src=\"./data_by_set/test/Dog\\1215.jpg\" /></td>\n",
       "    </tr>\n",
       "    <tr>\n",
       "      <th>15</th>\n",
       "      <td>Dog</td>\n",
       "      <td>Cat</td>\n",
       "      <td>./data_by_set/test/Dog\\1857.jpg</td>\n",
       "      <td><img src=\"./data_by_set/test/Dog\\1857.jpg\" /></td>\n",
       "    </tr>\n",
       "    <tr>\n",
       "      <th>16</th>\n",
       "      <td>Dog</td>\n",
       "      <td>Cat</td>\n",
       "      <td>./data_by_set/test/Dog\\2295.jpg</td>\n",
       "      <td><img src=\"./data_by_set/test/Dog\\2295.jpg\" /></td>\n",
       "    </tr>\n",
       "    <tr>\n",
       "      <th>17</th>\n",
       "      <td>Dog</td>\n",
       "      <td>Cat</td>\n",
       "      <td>./data_by_set/test/Dog\\2422.jpg</td>\n",
       "      <td><img src=\"./data_by_set/test/Dog\\2422.jpg\" /></td>\n",
       "    </tr>\n",
       "    <tr>\n",
       "      <th>18</th>\n",
       "      <td>Dog</td>\n",
       "      <td>Cat</td>\n",
       "      <td>./data_by_set/test/Dog\\3322.jpg</td>\n",
       "      <td><img src=\"./data_by_set/test/Dog\\3322.jpg\" /></td>\n",
       "    </tr>\n",
       "    <tr>\n",
       "      <th>19</th>\n",
       "      <td>Dog</td>\n",
       "      <td>Cat</td>\n",
       "      <td>./data_by_set/test/Dog\\3385.jpg</td>\n",
       "      <td><img src=\"./data_by_set/test/Dog\\3385.jpg\" /></td>\n",
       "    </tr>\n",
       "    <tr>\n",
       "      <th>20</th>\n",
       "      <td>Dog</td>\n",
       "      <td>Cat</td>\n",
       "      <td>./data_by_set/test/Dog\\4198.jpg</td>\n",
       "      <td><img src=\"./data_by_set/test/Dog\\4198.jpg\" /></td>\n",
       "    </tr>\n",
       "    <tr>\n",
       "      <th>21</th>\n",
       "      <td>Dog</td>\n",
       "      <td>Cat</td>\n",
       "      <td>./data_by_set/test/Dog\\4306.jpg</td>\n",
       "      <td><img src=\"./data_by_set/test/Dog\\4306.jpg\" /></td>\n",
       "    </tr>\n",
       "    <tr>\n",
       "      <th>22</th>\n",
       "      <td>Dog</td>\n",
       "      <td>Cat</td>\n",
       "      <td>./data_by_set/test/Dog\\4785.jpg</td>\n",
       "      <td><img src=\"./data_by_set/test/Dog\\4785.jpg\" /></td>\n",
       "    </tr>\n",
       "    <tr>\n",
       "      <th>23</th>\n",
       "      <td>Dog</td>\n",
       "      <td>Cat</td>\n",
       "      <td>./data_by_set/test/Dog\\5019.jpg</td>\n",
       "      <td><img src=\"./data_by_set/test/Dog\\5019.jpg\" /></td>\n",
       "    </tr>\n",
       "    <tr>\n",
       "      <th>24</th>\n",
       "      <td>Dog</td>\n",
       "      <td>Cat</td>\n",
       "      <td>./data_by_set/test/Dog\\5135.jpg</td>\n",
       "      <td><img src=\"./data_by_set/test/Dog\\5135.jpg\" /></td>\n",
       "    </tr>\n",
       "    <tr>\n",
       "      <th>25</th>\n",
       "      <td>Dog</td>\n",
       "      <td>Cat</td>\n",
       "      <td>./data_by_set/test/Dog\\6242.jpg</td>\n",
       "      <td><img src=\"./data_by_set/test/Dog\\6242.jpg\" /></td>\n",
       "    </tr>\n",
       "    <tr>\n",
       "      <th>26</th>\n",
       "      <td>Dog</td>\n",
       "      <td>Cat</td>\n",
       "      <td>./data_by_set/test/Dog\\7692.jpg</td>\n",
       "      <td><img src=\"./data_by_set/test/Dog\\7692.jpg\" /></td>\n",
       "    </tr>\n",
       "    <tr>\n",
       "      <th>27</th>\n",
       "      <td>Dog</td>\n",
       "      <td>Cat</td>\n",
       "      <td>./data_by_set/test/Dog\\8132.jpg</td>\n",
       "      <td><img src=\"./data_by_set/test/Dog\\8132.jpg\" /></td>\n",
       "    </tr>\n",
       "    <tr>\n",
       "      <th>28</th>\n",
       "      <td>Dog</td>\n",
       "      <td>Cat</td>\n",
       "      <td>./data_by_set/test/Dog\\8360.jpg</td>\n",
       "      <td><img src=\"./data_by_set/test/Dog\\8360.jpg\" /></td>\n",
       "    </tr>\n",
       "  </tbody>\n",
       "</table>"
      ],
      "text/plain": [
       "<IPython.core.display.HTML object>"
      ]
     },
     "execution_count": 33,
     "metadata": {},
     "output_type": "execute_result"
    }
   ],
   "source": [
    "df_test = pd.DataFrame()\n",
    "df_test['image_path'] = test_dataset.filenames\n",
    "df_test['Actual'] = y_test.astype(int)\n",
    "df_test['Predict'] = y_pred.astype(int)\n",
    "df_test['Actual_Animal'] = df_test['Actual'].map({0:'Cat',1:'Dog'})\n",
    "\n",
    "\n",
    "df_error = df_test[df_test['Actual']!=df_test['Predict']]\n",
    "df_error['Predicted_Animal'] = df_error['Predict'].map({0:'Cat',1:'Dog'})\n",
    "df_error['image'] = df_error['image_path'].apply(lambda x:'<img src=\"./data_by_set/test/{}\" /> '.format(x))\n",
    "df_error['image_path'] = df_error['image_path'].apply(lambda x:'./data_by_set/test/{}'.format(x))\n",
    "df_error.reset_index(inplace=True)\n",
    "\n",
    "pd.set_option('display.max_colwidth', -1)\n",
    "HTML(df_error[['Actual_Animal','Predicted_Animal','image_path','image']].to_html(escape=False))"
   ]
  }
 ],
 "metadata": {
  "kernelspec": {
   "display_name": "Python 3",
   "language": "python",
   "name": "python3"
  },
  "language_info": {
   "codemirror_mode": {
    "name": "ipython",
    "version": 3
   },
   "file_extension": ".py",
   "mimetype": "text/x-python",
   "name": "python",
   "nbconvert_exporter": "python",
   "pygments_lexer": "ipython3",
   "version": "3.8.3"
  }
 },
 "nbformat": 4,
 "nbformat_minor": 4
}
